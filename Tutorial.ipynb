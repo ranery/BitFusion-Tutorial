{
 "cells": [
  {
   "cell_type": "markdown",
   "metadata": {},
   "source": [
    "## BitFusion Tutorial\n",
    "\n",
    "***Bit Fusion: Bit-Level Dynamically Composable Architecture for Accelerating Deep Neural Networks*** **[\\[arXiv\\]](https://arxiv.org/abs/1712.01507)** **[\\[Github\\]](https://github.com/hsharma35/bitfusion)**"
   ]
  },
  {
   "cell_type": "markdown",
   "metadata": {},
   "source": [
    "### Motivation for BitFusion (Why do you need it?)\n",
    "As its name suggests, BitFusion provides the dedicated hardware supports for dynamic bit-level allocation in deep neural networks (DNN). Specifically, 1) It is a bit-flexible accelerator that constitutes an array of bit-level processing elements that dynamically fuse to match the bitwidth of individual DNN layers. 2) It has a lot of benefits and surpass the state-of-the-art accelerators: Eyeriss and Stripes. I will use this tutorial to introduce the concrete usage of BitFusion."
   ]
  },
  {
   "cell_type": "markdown",
   "metadata": {},
   "source": [
    "#### Original Codebase"
   ]
  },
  {
   "cell_type": "code",
   "execution_count": 1,
   "metadata": {},
   "outputs": [
    {
     "name": "stderr",
     "output_type": "stream",
     "text": [
      "Cloning into 'bitfusion'...\n"
     ]
    }
   ],
   "source": [
    "# download the source code of simulator\n",
    "!git clone https://github.com/hsharma35/bitfusion.git && cd bitfusion"
   ]
  },
  {
   "cell_type": "markdown",
   "metadata": {},
   "source": [
    "It seems there is a guide to show the usage, but that is only a showcase (i.e., plot code) without a corresponding critial data file.<br>\n",
    "*check the issue here: https://github.com/hsharma35/bitfusion/issues/2*"
   ]
  },
  {
   "cell_type": "markdown",
   "metadata": {},
   "source": [
    "#### Prerequisites"
   ]
  },
  {
   "cell_type": "code",
   "execution_count": 3,
   "metadata": {},
   "outputs": [
    {
     "name": "stdout",
     "output_type": "stream",
     "text": [
      "\u001b[33mDEPRECATION: Python 2.7 will reach the end of its life on January 1st, 2020. Please upgrade your Python as Python 2.7 won't be maintained after that date. A future version of pip will drop support for Python 2.7. More details about Python 2 support in pip, can be found at https://pip.pypa.io/en/latest/development/release-process/#python-2-support\u001b[0m\n",
      "Requirement already satisfied: pandas in /home/hy34/anaconda3/envs/py2/lib/python2.7/site-packages (from -r requirements.txt (line 1)) (0.24.2)\n",
      "Requirement already satisfied: matplotlib in /home/hy34/anaconda3/envs/py2/lib/python2.7/site-packages (from -r requirements.txt (line 2)) (2.2.5)\n",
      "Requirement already satisfied: scipy in /home/hy34/anaconda3/envs/py2/lib/python2.7/site-packages (from -r requirements.txt (line 3)) (1.2.3)\n",
      "Requirement already satisfied: graphviz in /home/hy34/anaconda3/envs/py2/lib/python2.7/site-packages (from -r requirements.txt (line 4)) (0.14)\n",
      "Requirement already satisfied: pytz>=2011k in /home/hy34/anaconda3/envs/py2/lib/python2.7/site-packages (from pandas->-r requirements.txt (line 1)) (2020.1)\n",
      "Requirement already satisfied: numpy>=1.12.0 in /home/hy34/anaconda3/envs/py2/lib/python2.7/site-packages (from pandas->-r requirements.txt (line 1)) (1.16.6)\n",
      "Requirement already satisfied: python-dateutil>=2.5.0 in /home/hy34/anaconda3/envs/py2/lib/python2.7/site-packages (from pandas->-r requirements.txt (line 1)) (2.8.1)\n",
      "Requirement already satisfied: subprocess32 in /home/hy34/anaconda3/envs/py2/lib/python2.7/site-packages (from matplotlib->-r requirements.txt (line 2)) (3.5.4)\n",
      "Requirement already satisfied: cycler>=0.10 in /home/hy34/anaconda3/envs/py2/lib/python2.7/site-packages (from matplotlib->-r requirements.txt (line 2)) (0.10.0)\n",
      "Requirement already satisfied: six>=1.10 in /home/hy34/anaconda3/envs/py2/lib/python2.7/site-packages (from matplotlib->-r requirements.txt (line 2)) (1.15.0)\n",
      "Requirement already satisfied: backports.functools-lru-cache in /home/hy34/anaconda3/envs/py2/lib/python2.7/site-packages (from matplotlib->-r requirements.txt (line 2)) (1.6.1)\n",
      "Requirement already satisfied: pyparsing!=2.0.4,!=2.1.2,!=2.1.6,>=2.0.1 in /home/hy34/anaconda3/envs/py2/lib/python2.7/site-packages (from matplotlib->-r requirements.txt (line 2)) (2.4.7)\n",
      "Requirement already satisfied: kiwisolver>=1.0.1 in /home/hy34/anaconda3/envs/py2/lib/python2.7/site-packages (from matplotlib->-r requirements.txt (line 2)) (1.1.0)\n",
      "Requirement already satisfied: setuptools in /home/hy34/anaconda3/envs/py2/lib/python2.7/site-packages (from kiwisolver>=1.0.1->matplotlib->-r requirements.txt (line 2)) (44.0.0.post20200106)\n",
      "\u001b[33mDEPRECATION: Python 2.7 will reach the end of its life on January 1st, 2020. Please upgrade your Python as Python 2.7 won't be maintained after that date. A future version of pip will drop support for Python 2.7. More details about Python 2 support in pip, can be found at https://pip.pypa.io/en/latest/development/release-process/#python-2-support\u001b[0m\n",
      "Requirement already satisfied: configparser in /home/hy34/anaconda3/envs/py2/lib/python2.7/site-packages (4.0.2)\n"
     ]
    }
   ],
   "source": [
    "!pip install -r requirements.txt\n",
    "!pip install configparser"
   ]
  },
  {
   "cell_type": "code",
   "execution_count": 11,
   "metadata": {},
   "outputs": [
    {
     "name": "stdout",
     "output_type": "stream",
     "text": [
      "Cloning into 'dnnweaver2'...\n",
      "remote: Enumerating objects: 360, done.\u001b[K\n",
      "remote: Total 360 (delta 0), reused 0 (delta 0), pack-reused 360\u001b[K\n",
      "Receiving objects: 100% (360/360), 20.37 MiB | 15.63 MiB/s, done.\n",
      "Resolving deltas: 100% (116/116), done.\n"
     ]
    }
   ],
   "source": [
    "!git clone https://github.com/hsharma35/dnnweaver2.git\n",
    "!mv ./dnnweaver2 ./dnnweaver2-repo\n",
    "!cp -r ./dnnweaver2-repo/dnnweaver2 dnnweaver2"
   ]
  },
  {
   "cell_type": "markdown",
   "metadata": {},
   "source": [
    "#### Python wrapper to generate SRAM sweeps with different capacity/#banks/widths"
   ]
  },
  {
   "cell_type": "code",
   "execution_count": 14,
   "metadata": {},
   "outputs": [
    {
     "name": "stdout",
     "output_type": "stream",
     "text": [
      "Cloning into 'cacti'...\n",
      "remote: Enumerating objects: 135, done.\u001b[K\n",
      "remote: Total 135 (delta 0), reused 0 (delta 0), pack-reused 135\u001b[K\n",
      "Receiving objects: 100% (135/135), 285.56 KiB | 0 bytes/s, done.\n",
      "Resolving deltas: 100% (74/74), done.\n"
     ]
    }
   ],
   "source": [
    "# Prerequisites: Clone and compile cacti-7\n",
    "!cd sram && git clone https://github.com/HewlettPackard/cacti.git"
   ]
  },
  {
   "cell_type": "code",
   "execution_count": 19,
   "metadata": {},
   "outputs": [
    {
     "name": "stdout",
     "output_type": "stream",
     "text": [
      "--2020-06-19 20:10:46--  https://github.com/HewlettPackard/cacti/archive/v6.5.0.tar.gz\n",
      "Resolving github.com (github.com)... 140.82.114.4\n",
      "Connecting to github.com (github.com)|140.82.114.4|:443... connected.\n",
      "HTTP request sent, awaiting response... 302 Found\n",
      "Location: https://codeload.github.com/HewlettPackard/cacti/tar.gz/v6.5.0 [following]\n",
      "--2020-06-19 20:10:46--  https://codeload.github.com/HewlettPackard/cacti/tar.gz/v6.5.0\n",
      "Resolving codeload.github.com (codeload.github.com)... 140.82.112.9\n",
      "Connecting to codeload.github.com (codeload.github.com)|140.82.112.9|:443... connected.\n",
      "HTTP request sent, awaiting response... 200 OK\n",
      "Length: unspecified [application/x-gzip]\n",
      "Saving to: ‘v6.5.0.tar.gz’\n",
      "\n",
      "    [ <=>                                   ] 91,178      --.-K/s   in 0.06s   \n",
      "\n",
      "2020-06-19 20:10:47 (1.36 MB/s) - ‘v6.5.0.tar.gz’ saved [91178]\n",
      "\n"
     ]
    }
   ],
   "source": [
    "# or you can use the released version\n",
    "! cd sram && wget https://github.com/HewlettPackard/cacti/archive/v6.5.0.tar.gz"
   ]
  },
  {
   "cell_type": "code",
   "execution_count": 21,
   "metadata": {},
   "outputs": [
    {
     "name": "stdout",
     "output_type": "stream",
     "text": [
      "cacti-6.5.0/\n",
      "cacti-6.5.0/README\n",
      "cacti-6.5.0/Ucache.cc\n",
      "cacti-6.5.0/Ucache.h\n",
      "cacti-6.5.0/arbiter.cc\n",
      "cacti-6.5.0/arbiter.h\n",
      "cacti-6.5.0/area.cc\n",
      "cacti-6.5.0/area.h\n",
      "cacti-6.5.0/bank.cc\n",
      "cacti-6.5.0/bank.h\n",
      "cacti-6.5.0/basic_circuit.cc\n",
      "cacti-6.5.0/basic_circuit.h\n",
      "cacti-6.5.0/cache.cfg\n",
      "cacti-6.5.0/cacti.i\n",
      "cacti-6.5.0/cacti.mk\n",
      "cacti-6.5.0/cacti_interface.cc\n",
      "cacti-6.5.0/cacti_interface.h\n",
      "cacti-6.5.0/component.cc\n",
      "cacti-6.5.0/component.h\n",
      "cacti-6.5.0/const.h\n",
      "cacti-6.5.0/contention.dat\n",
      "cacti-6.5.0/crossbar.cc\n",
      "cacti-6.5.0/crossbar.h\n",
      "cacti-6.5.0/decoder.cc\n",
      "cacti-6.5.0/decoder.h\n",
      "cacti-6.5.0/dram.cfg\n",
      "cacti-6.5.0/htree2.cc\n",
      "cacti-6.5.0/htree2.h\n",
      "cacti-6.5.0/io.cc\n",
      "cacti-6.5.0/io.h\n",
      "cacti-6.5.0/main.cc\n",
      "cacti-6.5.0/makefile\n",
      "cacti-6.5.0/mat.cc\n",
      "cacti-6.5.0/mat.h\n",
      "cacti-6.5.0/nuca.cc\n",
      "cacti-6.5.0/nuca.h\n",
      "cacti-6.5.0/parameter.cc\n",
      "cacti-6.5.0/parameter.h\n",
      "cacti-6.5.0/router.cc\n",
      "cacti-6.5.0/router.h\n",
      "cacti-6.5.0/subarray.cc\n",
      "cacti-6.5.0/subarray.h\n",
      "cacti-6.5.0/technology.cc\n",
      "cacti-6.5.0/uca.cc\n",
      "cacti-6.5.0/uca.h\n",
      "cacti-6.5.0/wire.cc\n",
      "cacti-6.5.0/wire.h\n"
     ]
    }
   ],
   "source": [
    "!cd sram && tar -xvzf v6.5.0.tar.gz"
   ]
  },
  {
   "cell_type": "code",
   "execution_count": 22,
   "metadata": {},
   "outputs": [
    {
     "name": "stdout",
     "output_type": "stream",
     "text": [
      "mkdir obj_dbg\n",
      "make[1]: Entering directory `/home/hy34/bitfusion/sram/cacti'\n",
      "g++ -m64 -Wno-unknown-pragmas -Wall  -ggdb -g -O0 -DNTHREADS=1  -gstabs+  -c area.cc -o obj_dbg/area.o\n",
      "g++ -m64 -Wno-unknown-pragmas -Wall  -ggdb -g -O0 -DNTHREADS=1  -gstabs+  -c bank.cc -o obj_dbg/bank.o\n",
      "g++ -m64 -Wno-unknown-pragmas -Wall  -ggdb -g -O0 -DNTHREADS=1  -gstabs+  -c mat.cc -o obj_dbg/mat.o\n",
      "g++ -m64 -Wno-unknown-pragmas -Wall  -ggdb -g -O0 -DNTHREADS=1  -gstabs+  -c main.cc -o obj_dbg/main.o\n",
      "g++ -m64 -Wno-unknown-pragmas -Wall  -ggdb -g -O0 -DNTHREADS=1  -gstabs+  -c Ucache.cc -o obj_dbg/Ucache.o\n",
      "g++ -m64 -Wno-unknown-pragmas -Wall  -ggdb -g -O0 -DNTHREADS=1  -gstabs+  -c io.cc -o obj_dbg/io.o\n",
      "g++ -m64 -Wno-unknown-pragmas -Wall  -ggdb -g -O0 -DNTHREADS=1  -gstabs+  -c technology.cc -o obj_dbg/technology.o\n",
      "g++ -m64 -Wno-unknown-pragmas -Wall  -ggdb -g -O0 -DNTHREADS=1  -gstabs+  -c basic_circuit.cc -o obj_dbg/basic_circuit.o\n",
      "\u001b[01m\u001b[Kbasic_circuit.cc:\u001b[m\u001b[K In function ‘\u001b[01m\u001b[Kdouble shortcircuit(double, double, double, double, double, double, double, double, double, double, double)\u001b[m\u001b[K’:\n",
      "\u001b[01m\u001b[Kbasic_circuit.cc:902:28:\u001b[m\u001b[K \u001b[01;35m\u001b[Kwarning: \u001b[m\u001b[Kvariable ‘\u001b[01m\u001b[Kp_short_circuit_discharge\u001b[m\u001b[K’ set but not used [-Wunused-but-set-variable]\n",
      "  double p_short_circuit=0, p_short_circuit_discharge=0;//, p_short_circuit_charge, p_short_circuit_discharge_low, p_short_circuit_discharge_high, p_short_circuit_charge_low, p_short_circuit_charge_high; //this is actually energy\n",
      "\u001b[01;32m\u001b[K                            ^\u001b[m\u001b[K\n",
      "g++ -m64 -Wno-unknown-pragmas -Wall  -ggdb -g -O0 -DNTHREADS=1  -gstabs+  -c parameter.cc -o obj_dbg/parameter.o\n",
      "\u001b[01m\u001b[Kparameter.cc:\u001b[m\u001b[K In member function ‘\u001b[01m\u001b[Kvoid DynamicParameter::init_CAM()\u001b[m\u001b[K’:\n",
      "\u001b[01m\u001b[Kparameter.cc:1624:10:\u001b[m\u001b[K \u001b[01;35m\u001b[Kwarning: \u001b[m\u001b[Kvariable ‘\u001b[01m\u001b[Kc_b_metal\u001b[m\u001b[K’ set but not used [-Wunused-but-set-variable]\n",
      "   double c_b_metal = cell.h * wire_local.C_per_um;\n",
      "\u001b[01;32m\u001b[K          ^\u001b[m\u001b[K\n",
      "\u001b[01m\u001b[Kparameter.cc:1632:10:\u001b[m\u001b[K \u001b[01;35m\u001b[Kwarning: \u001b[m\u001b[Kunused variable ‘\u001b[01m\u001b[KCbitrow_drain_cap\u001b[m\u001b[K’ [-Wunused-variable]\n",
      "   double Cbitrow_drain_cap = drain_C_(g_tp.cam.cell_a_w, NCH, 1, 0, cam_cell.w, false, true) / 2.0;//TODO: comment out these two lines\n",
      "\u001b[01;32m\u001b[K          ^\u001b[m\u001b[K\n",
      "\u001b[01m\u001b[Kparameter.cc:\u001b[m\u001b[K In member function ‘\u001b[01m\u001b[Kvoid DynamicParameter::init_FA()\u001b[m\u001b[K’:\n",
      "\u001b[01m\u001b[Kparameter.cc:1785:10:\u001b[m\u001b[K \u001b[01;35m\u001b[Kwarning: \u001b[m\u001b[Kvariable ‘\u001b[01m\u001b[Kc_b_metal\u001b[m\u001b[K’ set but not used [-Wunused-but-set-variable]\n",
      "   double c_b_metal = cell.h * wire_local.C_per_um;\n",
      "\u001b[01;32m\u001b[K          ^\u001b[m\u001b[K\n",
      "\u001b[01m\u001b[Kparameter.cc:1793:10:\u001b[m\u001b[K \u001b[01;35m\u001b[Kwarning: \u001b[m\u001b[Kunused variable ‘\u001b[01m\u001b[KCbitrow_drain_cap\u001b[m\u001b[K’ [-Wunused-variable]\n",
      "   double Cbitrow_drain_cap = drain_C_(g_tp.cam.cell_a_w, NCH, 1, 0, cam_cell.w, false, true) / 2.0;//TODO: comment out these two lines\n",
      "\u001b[01;32m\u001b[K          ^\u001b[m\u001b[K\n",
      "g++ -m64 -Wno-unknown-pragmas -Wall  -ggdb -g -O0 -DNTHREADS=1  -gstabs+  -c decoder.cc -o obj_dbg/decoder.o\n",
      "g++ -m64 -Wno-unknown-pragmas -Wall  -ggdb -g -O0 -DNTHREADS=1  -gstabs+  -c component.cc -o obj_dbg/component.o\n",
      "g++ -m64 -Wno-unknown-pragmas -Wall  -ggdb -g -O0 -DNTHREADS=1  -gstabs+  -c uca.cc -o obj_dbg/uca.o\n",
      "g++ -m64 -Wno-unknown-pragmas -Wall  -ggdb -g -O0 -DNTHREADS=1  -gstabs+  -c subarray.cc -o obj_dbg/subarray.o\n",
      "g++ -m64 -Wno-unknown-pragmas -Wall  -ggdb -g -O0 -DNTHREADS=1  -gstabs+  -c wire.cc -o obj_dbg/wire.o\n",
      "g++ -m64 -Wno-unknown-pragmas -Wall  -ggdb -g -O0 -DNTHREADS=1  -gstabs+  -c htree2.cc -o obj_dbg/htree2.o\n",
      "g++ -m64 -Wno-unknown-pragmas -Wall  -ggdb -g -O0 -DNTHREADS=1  -gstabs+  -c extio.cc -o obj_dbg/extio.o\n",
      "g++ -m64 -Wno-unknown-pragmas -Wall  -ggdb -g -O0 -DNTHREADS=1  -gstabs+  -c extio_technology.cc -o obj_dbg/extio_technology.o\n",
      "g++ -m64 -Wno-unknown-pragmas -Wall  -ggdb -g -O0 -DNTHREADS=1  -gstabs+  -c cacti_interface.cc -o obj_dbg/cacti_interface.o\n",
      "g++ -m64 -Wno-unknown-pragmas -Wall  -ggdb -g -O0 -DNTHREADS=1  -gstabs+  -c router.cc -o obj_dbg/router.o\n",
      "g++ -m64 -Wno-unknown-pragmas -Wall  -ggdb -g -O0 -DNTHREADS=1  -gstabs+  -c nuca.cc -o obj_dbg/nuca.o\n",
      "g++ -m64 -Wno-unknown-pragmas -Wall  -ggdb -g -O0 -DNTHREADS=1  -gstabs+  -c crossbar.cc -o obj_dbg/crossbar.o\n",
      "g++ -m64 -Wno-unknown-pragmas -Wall  -ggdb -g -O0 -DNTHREADS=1  -gstabs+  -c arbiter.cc -o obj_dbg/arbiter.o\n",
      "g++ -m64 -Wno-unknown-pragmas -Wall  -ggdb -g -O0 -DNTHREADS=1  -gstabs+  -c powergating.cc -o obj_dbg/powergating.o\n",
      "g++ -m64 -Wno-unknown-pragmas -Wall  -ggdb -g -O0 -DNTHREADS=1  -gstabs+  -c TSV.cc -o obj_dbg/TSV.o\n",
      "g++ -m64 -Wno-unknown-pragmas -Wall  -ggdb -g -O0 -DNTHREADS=1  -gstabs+  -c memorybus.cc -o obj_dbg/memorybus.o\n",
      "g++ -m64 -Wno-unknown-pragmas -Wall  -ggdb -g -O0 -DNTHREADS=1  -gstabs+  -c memcad.cc -o obj_dbg/memcad.o\n",
      "\u001b[01m\u001b[Kmemcad.cc:\u001b[m\u001b[K In function ‘\u001b[01m\u001b[Kvoid find_all_channels(MemCadParameters*)\u001b[m\u001b[K’:\n",
      "\u001b[01m\u001b[Kmemcad.cc:169:5:\u001b[m\u001b[K \u001b[01;35m\u001b[Kwarning: \u001b[m\u001b[Ksuggest parentheses around ‘\u001b[01m\u001b[K&&\u001b[m\u001b[K’ within ‘\u001b[01m\u001b[K||\u001b[m\u001b[K’ [-Wparentheses]\n",
      "     &&  ((d3==0) || (MemoryParameters::cost[current_io_type][1][d3-1]<INF)) )    \n",
      "\u001b[01;32m\u001b[K     ^\u001b[m\u001b[K\n",
      "\u001b[01m\u001b[Kmemcad.cc:206:5:\u001b[m\u001b[K \u001b[01;35m\u001b[Kwarning: \u001b[m\u001b[Ksuggest parentheses around ‘\u001b[01m\u001b[K&&\u001b[m\u001b[K’ within ‘\u001b[01m\u001b[K||\u001b[m\u001b[K’ [-Wparentheses]\n",
      "     &&  ((d3==0) || (MemoryParameters::cost[current_io_type][0][d3-1]<INF)) )    \n",
      "\u001b[01;32m\u001b[K     ^\u001b[m\u001b[K\n",
      "g++ -m64 -Wno-unknown-pragmas -Wall  -ggdb -g -O0 -DNTHREADS=1  -gstabs+  -c memcad_parameters.cc -o obj_dbg/memcad_parameters.o\n",
      "g++ -m64 obj_dbg/area.o obj_dbg/bank.o obj_dbg/mat.o obj_dbg/main.o obj_dbg/Ucache.o obj_dbg/io.o obj_dbg/technology.o obj_dbg/basic_circuit.o obj_dbg/parameter.o obj_dbg/decoder.o obj_dbg/component.o obj_dbg/uca.o obj_dbg/subarray.o obj_dbg/wire.o obj_dbg/htree2.o obj_dbg/extio.o obj_dbg/extio_technology.o obj_dbg/cacti_interface.o obj_dbg/router.o obj_dbg/nuca.o obj_dbg/crossbar.o obj_dbg/arbiter.o obj_dbg/powergating.o obj_dbg/TSV.o obj_dbg/memorybus.o obj_dbg/memcad.o obj_dbg/memcad_parameters.o -o obj_dbg/cacti -lm -Wno-unknown-pragmas -Wall  -ggdb -g -O0 -DNTHREADS=1  -gstabs+   -pthread\n",
      "cp -f obj_dbg/cacti cacti\n",
      "make[1]: Leaving directory `/home/hy34/bitfusion/sram/cacti'\n"
     ]
    }
   ],
   "source": [
    "# compile the project\n",
    "!cd ./sram/cacti && make"
   ]
  },
  {
   "cell_type": "code",
   "execution_count": 23,
   "metadata": {},
   "outputs": [
    {
     "name": "stdout",
     "output_type": "stream",
     "text": [
      "**************************************************\n",
      "Eyeriss @ 65nm\n",
      "area: nan mm^2\n",
      "leakage power: nan mWatt\n",
      "read energy per bit: nan pJ\n",
      "write energy per bit: nan pJ\n",
      "avg energy per bit: nan pJ\n",
      "**************************************************\n",
      "BitFusion @ 45nm\n",
      "{'technology (u)': 0.045, 'block size (bytes)': 4, 'size (bytes)': 128}\n",
      "   size (bytes)  block size (bytes)  ...  area_mm^2  technology (u)\n",
      "3         128.0                 4.0  ...   0.001499           0.045\n",
      "\n",
      "[1 rows x 11 columns]\n",
      "area: 0.00149898 mm^2\n",
      "size: 128 bytes\n",
      "total area: 0.76747776 mm^2\n",
      "total size: 65536 bytes\n",
      "read energy per bit: 0.02136565625 pJ\n",
      "write energy per bit: 0.02891615625 pJ\n",
      "avg energy per bit: 0.02514090625 pJ\n",
      "**********\n",
      "area: 0.015132 mm^2\n",
      "size: 2048 bytes\n",
      "total area: 0.242112 mm^2\n",
      "total size: 32768 bytes\n",
      "read energy per bit: 0.059474375 pJ\n",
      "write energy per bit: 0.1137040625 pJ\n",
      "avg energy per bit: 0.08658921875 pJ\n",
      "**********\n",
      "area: 0.00760331 mm^2\n",
      "size: 512 bytes\n",
      "total area: 0.24330592 mm^2\n",
      "total size: 16384 bytes\n",
      "read energy per bit: 0.0331553125 pJ\n",
      "write energy per bit: 0.0730840625 pJ\n",
      "avg energy per bit: 0.0531196875 pJ\n"
     ]
    }
   ],
   "source": [
    "# To test the installation of cacti-7 and the python wrapper: \n",
    "!cd sram && python cacti_sweep.py"
   ]
  },
  {
   "cell_type": "markdown",
   "metadata": {},
   "source": [
    "#### Last Step: \n",
    "* Replace the sweep.py in `./src/sweep/sweep.py` to the new file (https://drive.google.com/file/d/13yARyK7nFevNF15689Swyh6LgE7M6Qff/view?usp=sharing)\n",
    "* Replace the stats.py in `./src/simulator/stats.py` to the new file (https://drive.google.com/file/d/1Dlb6r1dfrbXYMaP4fS0Y-2_wpGPbHUH4/view?usp=sharing)"
   ]
  },
  {
   "cell_type": "markdown",
   "metadata": {},
   "source": [
    "### Then you can run simulation"
   ]
  },
  {
   "cell_type": "code",
   "execution_count": 1,
   "metadata": {},
   "outputs": [],
   "source": [
    "import pandas\n",
    "import configparser\n",
    "import os\n",
    "import numpy as np\n",
    "from graph_plot.barchart import BarChart\n",
    "\n",
    "import matplotlib\n",
    "\n",
    "import warnings\n",
    "warnings.filterwarnings('ignore')\n",
    "\n",
    "import dnnweaver2\n",
    "\n",
    "import src.benchmarks.benchmarks as benchmarks\n",
    "from src.simulator.stats import Stats\n",
    "from src.simulator.simulator import Simulator\n",
    "from src.sweep.sweep import SimulatorSweep, check_pandas_or_run\n",
    "from src.utils.utils import *\n",
    "from src.optimizer.optimizer import optimize_for_order, get_stats_fast"
   ]
  },
  {
   "cell_type": "code",
   "execution_count": 2,
   "metadata": {},
   "outputs": [],
   "source": [
    "## use a batch size of 16\n",
    "batch_size = 128\n",
    "\n",
    "results_dir = './results'\n",
    "if not os.path.exists(results_dir):\n",
    "    os.makedirs(results_dir)\n",
    "\n",
    "fig_dir = './fig'\n",
    "if not os.path.exists(fig_dir):\n",
    "    os.makedirs(fig_dir)\n",
    "\n",
    "## establish systolic arrray\n",
    "from pandas import DataFrame"
   ]
  },
  {
   "cell_type": "markdown",
   "metadata": {},
   "source": [
    "## ***Below is the missed file that I recovered from showcase***"
   ]
  },
  {
   "cell_type": "code",
   "execution_count": 3,
   "metadata": {},
   "outputs": [
    {
     "name": "stdout",
     "output_type": "stream",
     "text": [
      "   Frequency  Area (um^2)  Leakage Power (nW)  Dynamic Power (nW)  \\\n",
      "0          1            1                   1                   1   \n",
      "1          1            1                   1                   1   \n",
      "\n",
      "   Max Precision (bits)   M  Min Precision (bits)   N  \n",
      "0                     8  32                     2  16  \n",
      "1                     8   4                     2   4  \n"
     ]
    }
   ],
   "source": [
    "data = {'Max Precision (bits)': [8, 8],\n",
    "        'Min Precision (bits)': [2, 2],\n",
    "        'M': [32, 4],\n",
    "        'N': [16, 4],\n",
    "        'Area (um^2)': [1, 1],\n",
    "        'Dynamic Power (nW)': [1, 1],\n",
    "        'Frequency': [1, 1],\n",
    "        'Leakage Power (nW)': [1, 1]\n",
    "        }\n",
    "\n",
    "df = DataFrame(data, columns=list(data.keys()))\n",
    "export_csv = df.to_csv (r'./results/systolic_array_synth.csv', index = None, header=True)\n",
    "print (df)"
   ]
  },
  {
   "cell_type": "code",
   "execution_count": 4,
   "metadata": {},
   "outputs": [
    {
     "name": "stdout",
     "output_type": "stream",
     "text": [
      "Simulator object\n",
      "\tMax supported precision: 8\n",
      "\tMin supported precision: 2\n",
      "\tSystolic array size: 16 -inputs x 32 -outputs\n",
      "\tWbuf size: 65,536 Bytes\n",
      "\tIbuf size: 32,768 Bytes\n",
      "\tObuf size: 16,384 Bytes\n",
      "Double buffering enabled. Sizes of SRAM are halved\n",
      "\n",
      "**************************************************\n",
      "Energy costs for BitFusion\n",
      "Core dynamic energy : 1000.000 pJ/cycle (for entire systolic array)\n",
      "WBUF Read energy    : 0.021 pJ/bit\n",
      "WBUF Write energy   : 0.029 pJ/bit\n",
      "IBUF Read energy    : 0.059 pJ/bit\n",
      "IBUF Write energy   : 0.114 pJ/bit\n",
      "OBUF Read energy    : 0.033 pJ/bit\n",
      "OBUF Write energy   : 0.073 pJ/bit\n",
      "\n"
     ]
    }
   ],
   "source": [
    "config_file = 'bf_e_conf.ini'\n",
    "# config_file = 'conf.ini'\n",
    "\n",
    "# Create simulator object\n",
    "verbose = False\n",
    "bf_e_sim = Simulator(config_file, verbose)\n",
    "bf_e_energy_costs = bf_e_sim.get_energy_cost()\n",
    "print(bf_e_sim)\n",
    "\n",
    "energy_tuple = bf_e_energy_costs\n",
    "print('')\n",
    "print('*'*50)\n",
    "print(energy_tuple)"
   ]
  },
  {
   "cell_type": "markdown",
   "metadata": {},
   "source": [
    "### ***You can define your own network (modify the `./src/benchmarks/benchmarks.py`)***\n",
    "below I use show the default several networks."
   ]
  },
  {
   "cell_type": "code",
   "execution_count": 5,
   "metadata": {},
   "outputs": [
    {
     "name": "stderr",
     "output_type": "stream",
     "text": [
      "INFO:src.sweep.sweep.Simulator:Simulating Benchmark: AlexNet\n",
      "INFO:src.sweep.sweep.Simulator:N x M = 16 x 32\n",
      "INFO:src.sweep.sweep.Simulator:Max Precision (bits): 8\n",
      "INFO:src.sweep.sweep.Simulator:Min Precision (bits): 2\n",
      "INFO:src.sweep.sweep.Simulator:Batch size: 128\n",
      "INFO:src.sweep.sweep.Simulator:Bandwidth (bits/cycle): 192\n"
     ]
    },
    {
     "name": "stdout",
     "output_type": "stream",
     "text": [
      "Got BitFusion Eyeriss, Numbers\n"
     ]
    },
    {
     "name": "stderr",
     "output_type": "stream",
     "text": [
      "INFO:src.sweep.sweep.Simulator:Simulating Benchmark: SVHN\n",
      "INFO:src.sweep.sweep.Simulator:N x M = 16 x 32\n",
      "INFO:src.sweep.sweep.Simulator:Max Precision (bits): 8\n",
      "INFO:src.sweep.sweep.Simulator:Min Precision (bits): 2\n",
      "INFO:src.sweep.sweep.Simulator:Batch size: 128\n",
      "INFO:src.sweep.sweep.Simulator:Bandwidth (bits/cycle): 192\n",
      "INFO:src.sweep.sweep.Simulator:Simulating Benchmark: CIFAR10\n",
      "INFO:src.sweep.sweep.Simulator:N x M = 16 x 32\n",
      "INFO:src.sweep.sweep.Simulator:Max Precision (bits): 8\n",
      "INFO:src.sweep.sweep.Simulator:Min Precision (bits): 2\n",
      "INFO:src.sweep.sweep.Simulator:Batch size: 128\n",
      "INFO:src.sweep.sweep.Simulator:Bandwidth (bits/cycle): 192\n",
      "INFO:src.sweep.sweep.Simulator:Simulating Benchmark: LeNet-5\n",
      "INFO:src.sweep.sweep.Simulator:N x M = 16 x 32\n",
      "INFO:src.sweep.sweep.Simulator:Max Precision (bits): 8\n",
      "INFO:src.sweep.sweep.Simulator:Min Precision (bits): 2\n",
      "INFO:src.sweep.sweep.Simulator:Batch size: 128\n",
      "INFO:src.sweep.sweep.Simulator:Bandwidth (bits/cycle): 192\n",
      "INFO:src.sweep.sweep.Simulator:Simulating Benchmark: VGG-7\n",
      "INFO:src.sweep.sweep.Simulator:N x M = 16 x 32\n",
      "INFO:src.sweep.sweep.Simulator:Max Precision (bits): 8\n",
      "INFO:src.sweep.sweep.Simulator:Min Precision (bits): 2\n",
      "INFO:src.sweep.sweep.Simulator:Batch size: 128\n",
      "INFO:src.sweep.sweep.Simulator:Bandwidth (bits/cycle): 192\n",
      "INFO:src.sweep.sweep.Simulator:Simulating Benchmark: RESNET-18\n",
      "INFO:src.sweep.sweep.Simulator:N x M = 16 x 32\n",
      "INFO:src.sweep.sweep.Simulator:Max Precision (bits): 8\n",
      "INFO:src.sweep.sweep.Simulator:Min Precision (bits): 2\n",
      "INFO:src.sweep.sweep.Simulator:Batch size: 128\n",
      "INFO:src.sweep.sweep.Simulator:Bandwidth (bits/cycle): 192\n",
      "INFO:src.sweep.sweep.Simulator:Simulating Benchmark: RNN\n",
      "INFO:src.sweep.sweep.Simulator:N x M = 16 x 32\n",
      "INFO:src.sweep.sweep.Simulator:Max Precision (bits): 8\n",
      "INFO:src.sweep.sweep.Simulator:Min Precision (bits): 2\n",
      "INFO:src.sweep.sweep.Simulator:Batch size: 128\n",
      "INFO:src.sweep.sweep.Simulator:Bandwidth (bits/cycle): 192\n",
      "INFO:src.sweep.sweep.Simulator:Simulating Benchmark: LSTM\n",
      "INFO:src.sweep.sweep.Simulator:N x M = 16 x 32\n",
      "INFO:src.sweep.sweep.Simulator:Max Precision (bits): 8\n",
      "INFO:src.sweep.sweep.Simulator:Min Precision (bits): 2\n",
      "INFO:src.sweep.sweep.Simulator:Batch size: 128\n",
      "INFO:src.sweep.sweep.Simulator:Bandwidth (bits/cycle): 192\n"
     ]
    }
   ],
   "source": [
    "# bench_list = benchmarks.FracTrain_benchlist\n",
    "# bench_list = benchmarks.L2A_benchlist\n",
    "bench_list = benchmarks.benchlist\n",
    "\n",
    "sim_sweep_columns = ['N', 'M',\n",
    "        'Max Precision (bits)', 'Min Precision (bits)',\n",
    "        'Network', 'Layer',\n",
    "        'Cycles', 'Memory wait cycles',\n",
    "        'WBUF Read', 'WBUF Write',\n",
    "        'OBUF Read', 'OBUF Write',\n",
    "        'IBUF Read', 'IBUF Write',\n",
    "        'DRAM Read', 'DRAM Write',\n",
    "        'Bandwidth (bits/cycle)',\n",
    "        'WBUF Size (bits)', 'OBUF Size (bits)', 'IBUF Size (bits)',\n",
    "        'Batch size']\n",
    "\n",
    "# bf_e_sim_sweep_csv = os.path.join(results_dir, 'bitfusion-eyeriss-sim-sweep.csv')\n",
    "# if os.path.exists(bf_e_sim_sweep_csv):\n",
    "#     bf_e_sim_sweep_df = pandas.read_csv(bf_e_sim_sweep_csv)\n",
    "# else:\n",
    "#     bf_e_sim_sweep_df = pandas.DataFrame(columns=sim_sweep_columns)\n",
    "bf_e_sim_sweep_csv = os.path.join(results_dir, 'trial.csv')\n",
    "if os.path.exists(bf_e_sim_sweep_csv):\n",
    "    os.remove(bf_e_sim_sweep_csv)\n",
    "bf_e_sim_sweep_df = pandas.DataFrame(columns=sim_sweep_columns)\n",
    "print('Got BitFusion Eyeriss, Numbers')\n",
    "\n",
    "bf_e_results = check_pandas_or_run(bf_e_sim, bf_e_sim_sweep_df, bf_e_sim_sweep_csv, list_bench=bench_list, batch_size=batch_size, config_file='./conf.ini')\n",
    "bf_e_results = bf_e_results.groupby('Network',as_index=False).agg(np.sum)\n",
    "export_csv = bf_e_results.to_csv (r'./results/trial_stat.csv', index = None, header=True)\n",
    "area_stats = bf_e_sim.get_area()"
   ]
  },
  {
   "cell_type": "code",
   "execution_count": 6,
   "metadata": {},
   "outputs": [],
   "source": [
    "from src.simulator.stats import Stats\n",
    "def df_to_stats(df):\n",
    "    stats = Stats()\n",
    "    stats.total_cycles = float(df['Cycles'])\n",
    "    stats.mem_stall_cycles = float(df['Memory wait cycles'])\n",
    "    stats.reads['act'] = float(df['IBUF Read'])\n",
    "    stats.reads['out'] = float(df['OBUF Read'])\n",
    "    stats.reads['wgt'] = float(df['WBUF Read'])\n",
    "    stats.reads['dram'] = float(df['DRAM Read'])\n",
    "    stats.writes['act'] = float(df['IBUF Write'])\n",
    "    stats.writes['out'] = float(df['OBUF Write'])\n",
    "    stats.writes['wgt'] = float(df['WBUF Write'])\n",
    "    stats.writes['dram'] = float(df['DRAM Write'])\n",
    "    return stats"
   ]
  },
  {
   "cell_type": "code",
   "execution_count": 7,
   "metadata": {},
   "outputs": [
    {
     "name": "stdout",
     "output_type": "stream",
     "text": [
      "BitFusion-Eyeriss comparison\n",
      "Area budget = 5.87130177515\n",
      "(1e-06, 0.76747776, 0.242112, 0.24330592)\n",
      "Warning: BitFusion Area is outside 10% of eyeriss\n",
      "total_area = 1.25289668, budget = 5.87130177515\n",
      "cc_energy: 0.246985984, mem_energy: 0.997503628355\n",
      "**************************************************\n",
      "Benchmark: AlexNet\n",
      "BitFusion time: 602.663856 ms\n",
      "BitFusion power: 33.0397013185 mWatt\n",
      "BitFusion energy: 1.24448961236 J\n",
      "**************************************************\n",
      "cc_energy: 0.006242816, mem_energy: 0.0322949763313\n",
      "**************************************************\n",
      "Benchmark: SVHN\n",
      "BitFusion time: 21.080368 ms\n",
      "BitFusion power: 29.2501856372 mWatt\n",
      "BitFusion energy: 0.0385377923313 J\n",
      "**************************************************\n",
      "cc_energy: 0.014172672, mem_energy: 0.0893990093133\n",
      "**************************************************\n",
      "Benchmark: CIFAR10\n",
      "BitFusion time: 52.699264 ms\n",
      "BitFusion power: 31.4453518936 mWatt\n",
      "BitFusion energy: 0.103571681313 J\n",
      "**************************************************\n",
      "cc_energy: 0.001802496, mem_energy: 0.0087071800179\n",
      "**************************************************\n",
      "Benchmark: LeNet-5\n",
      "BitFusion time: 6.565632 ms\n",
      "BitFusion power: 25.6113678449 mWatt\n",
      "BitFusion energy: 0.0105096760179 J\n",
      "**************************************************\n",
      "cc_energy: 0.008257536, mem_energy: 0.0720490457673\n",
      "**************************************************\n",
      "Benchmark: VGG-7\n",
      "BitFusion time: 45.159856 ms\n",
      "BitFusion power: 28.4523783308 mWatt\n",
      "BitFusion energy: 0.0803065817673 J\n",
      "**************************************************\n",
      "cc_energy: 0.316309504, mem_energy: 1.28296049306\n",
      "**************************************************\n",
      "Benchmark: RESNET-18\n",
      "BitFusion time: 785.279712 ms\n",
      "BitFusion power: 32.5849752158 mWatt\n",
      "BitFusion energy: 1.59926999706 J\n",
      "**************************************************\n",
      "cc_energy: 0.001048576, mem_energy: 0.0098084568025\n",
      "**************************************************\n",
      "Benchmark: RNN\n",
      "BitFusion time: 6.313328 ms\n",
      "BitFusion power: 27.5152066929 mWatt\n",
      "BitFusion energy: 0.0108570328025 J\n",
      "**************************************************\n",
      "cc_energy: 0.000846336, mem_energy: 0.0084413288054\n",
      "**************************************************\n",
      "Benchmark: LSTM\n",
      "BitFusion time: 5.3948 ms\n",
      "BitFusion power: 27.5455321581 mWatt\n",
      "BitFusion energy: 0.0092876648054 J\n",
      "**************************************************\n"
     ]
    }
   ],
   "source": [
    "print('BitFusion-Eyeriss comparison')\n",
    "eyeriss_area = 3.5*3.5*45*45/65./65.\n",
    "print('Area budget = {}'.format(eyeriss_area))\n",
    "\n",
    "\n",
    "print(area_stats)\n",
    "if abs(sum(area_stats)-eyeriss_area)/eyeriss_area > 0.1:\n",
    "    print('Warning: BitFusion Area is outside 10% of eyeriss')\n",
    "print('total_area = {}, budget = {}'.format(sum(area_stats), eyeriss_area))\n",
    "bf_e_area = sum(area_stats)\n",
    "\n",
    "baseline_data = []\n",
    "for bench in bench_list:\n",
    "    lookup_dict = {'Benchmark': bench}\n",
    "\n",
    "    # eyeriss_cycles = float(lookup_pandas_dataframe(eyeriss_data_bench, lookup_dict)['time(ms)'])\n",
    "    # eyeriss_time = eyeriss_cycles / 500.e3 / 16\n",
    "    # eyeriss_energy = get_eyeriss_energy(lookup_pandas_dataframe(eyeriss_data_bench, lookup_dict))\n",
    "    # eyeriss_power = eyeriss_energy / eyeriss_time * 1.e-9\n",
    "\n",
    "    # eyeriss_speedup = eyeriss_time / eyeriss_time\n",
    "    # eyeriss_energy_efficiency = eyeriss_energy / eyeriss_energy\n",
    "\n",
    "    # eyeriss_ppa = eyeriss_speedup / eyeriss_area / (eyeriss_speedup / eyeriss_area)\n",
    "    # eyeriss_ppw = eyeriss_speedup / eyeriss_power / (eyeriss_speedup / eyeriss_power)\n",
    "\n",
    "    bf_e_stats = df_to_stats(bf_e_results.loc[bf_e_results['Network'] == bench])\n",
    "    bf_e_cycles = bf_e_stats.total_cycles * (batch_size / 16.)\n",
    "    bf_e_time = bf_e_cycles / 500.e3 #/ 16\n",
    "    cc_energy, mem_energy = bf_e_stats.get_energy(bf_e_sim.get_energy_cost())\n",
    "    cc_energy = cc_energy * (batch_size / 16.)\n",
    "    mem_energy = mem_energy * (batch_size / 16.)\n",
    "    print('cc_energy: {}, mem_energy: {}'.format(cc_energy*1.e-9, mem_energy*1.e-9))\n",
    "    bf_e_energy = cc_energy + mem_energy\n",
    "    bf_e_power = bf_e_energy / bf_e_time * 1.e-9\n",
    "\n",
    "    # bf_e_speedup = eyeriss_time / bf_e_time\n",
    "    # bf_e_energy_efficiency = eyeriss_energy / bf_e_energy\n",
    "\n",
    "    # bf_e_ppa = bf_e_speedup / bf_e_area / (eyeriss_speedup / eyeriss_area)\n",
    "    # bf_e_ppw = bf_e_speedup / bf_e_power / (eyeriss_speedup / eyeriss_power)\n",
    "\n",
    "    # baseline_data.append(['Performance', bench, bf_e_speedup])\n",
    "    # baseline_data.append(['Energy reduction', bench, bf_e_energy_efficiency])\n",
    "    # baseline_data.append(['Performance-per-Watt', bench, bf_e_ppw])\n",
    "    # baseline_data.append(['Performance-per-Area', bench, bf_e_ppa])\n",
    "\n",
    "    print('*'*50)\n",
    "    print('Benchmark: {}'.format(bench))\n",
    "    # print('Eyeriss time: {} ms'.format(eyeriss_time))\n",
    "    print('BitFusion time: {} ms'.format(bf_e_time))\n",
    "    # print('Eyeriss power: {} mWatt'.format(eyeriss_power*1.e3*16))\n",
    "    print('BitFusion power: {} mWatt'.format(bf_e_power*1.e3*16))\n",
    "    # print('BitFusion energy: {} mJ'.format(bf_e_time*bf_e_power*1.e3*16 / 1.e3))\n",
    "    print('BitFusion energy: {} J'.format(bf_e_energy*1.e-9))\n",
    "    print('*'*50)"
   ]
  },
  {
   "cell_type": "code",
   "execution_count": null,
   "metadata": {},
   "outputs": [],
   "source": []
  }
 ],
 "metadata": {
  "kernelspec": {
   "display_name": "Python 3",
   "language": "python",
   "name": "python3"
  },
  "language_info": {
   "codemirror_mode": {
    "name": "ipython",
    "version": 3
   },
   "file_extension": ".py",
   "mimetype": "text/x-python",
   "name": "python",
   "nbconvert_exporter": "python",
   "pygments_lexer": "ipython3",
   "version": "3.7.4"
  }
 },
 "nbformat": 4,
 "nbformat_minor": 4
}
